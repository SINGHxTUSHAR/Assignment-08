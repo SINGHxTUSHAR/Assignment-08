{
 "cells": [
  {
   "cell_type": "markdown",
   "id": "12120fa0",
   "metadata": {},
   "source": [
    "what is an Exception in python? write the difference between exception and syntax error?"
   ]
  },
  {
   "cell_type": "markdown",
   "id": "3212ee2f",
   "metadata": {},
   "source": [
    " An exception is an event, which occurs during the execution of a program that disrupts the normal flow of the program's instructions. In general, when a Python script encounters a situation that it cannot cope with, it raises an exception. An exception is a Python object that represents an error."
   ]
  },
  {
   "cell_type": "markdown",
   "id": "77874c26",
   "metadata": {},
   "source": [
    "Errors mostly happen at compile-time like syntax error; however it can happen at runtime as well. Whereas an Exception occurs at runtime"
   ]
  },
  {
   "cell_type": "code",
   "execution_count": 5,
   "id": "1a884d96",
   "metadata": {},
   "outputs": [
    {
     "name": "stdout",
     "output_type": "stream",
     "text": [
      "[Errno 2] No such file or directory: 'test.txt'\n"
     ]
    }
   ],
   "source": [
    "#handling the exception \n",
    "\n",
    "try:\n",
    "    f = open(\"test.txt\",'r')\n",
    "    f.read()\n",
    "except Exception as e:\n",
    "    print(e)"
   ]
  },
  {
   "cell_type": "code",
   "execution_count": 6,
   "id": "aab69929",
   "metadata": {},
   "outputs": [
    {
     "ename": "SyntaxError",
     "evalue": "Missing parentheses in call to 'print'. Did you mean print(a)? (3074042865.py, line 3)",
     "output_type": "error",
     "traceback": [
      "\u001b[1;36m  Input \u001b[1;32mIn [6]\u001b[1;36m\u001b[0m\n\u001b[1;33m    print a\u001b[0m\n\u001b[1;37m          ^\u001b[0m\n\u001b[1;31mSyntaxError\u001b[0m\u001b[1;31m:\u001b[0m Missing parentheses in call to 'print'. Did you mean print(a)?\n"
     ]
    }
   ],
   "source": [
    "# syntax error\n",
    "a = 45 + 98\n",
    "print a   #this is my syntax error"
   ]
  },
  {
   "cell_type": "code",
   "execution_count": null,
   "id": "5b9d34a2",
   "metadata": {},
   "outputs": [],
   "source": []
  },
  {
   "cell_type": "markdown",
   "id": "62f12924",
   "metadata": {},
   "source": [
    "what happens when an exception is not handled? explain?"
   ]
  },
  {
   "cell_type": "markdown",
   "id": "913bf0ba",
   "metadata": {},
   "source": [
    "if the exception in our program is not handle then it will intrupt the flow of our code and the complete execution of code is not possible due to an exception."
   ]
  },
  {
   "cell_type": "code",
   "execution_count": 8,
   "id": "fe7652c4",
   "metadata": {},
   "outputs": [
    {
     "ename": "FileNotFoundError",
     "evalue": "[Errno 2] No such file or directory: 'demo.txtr'",
     "output_type": "error",
     "traceback": [
      "\u001b[1;31m---------------------------------------------------------------------------\u001b[0m",
      "\u001b[1;31mFileNotFoundError\u001b[0m                         Traceback (most recent call last)",
      "Input \u001b[1;32mIn [8]\u001b[0m, in \u001b[0;36m<cell line: 3>\u001b[1;34m()\u001b[0m\n\u001b[0;32m      1\u001b[0m \u001b[38;5;66;03m# if exception is not handled\u001b[39;00m\n\u001b[1;32m----> 3\u001b[0m f \u001b[38;5;241m=\u001b[39m \u001b[38;5;28;43mopen\u001b[39;49m\u001b[43m(\u001b[49m\u001b[38;5;124;43m\"\u001b[39;49m\u001b[38;5;124;43mdemo.txt\u001b[39;49m\u001b[38;5;124;43m\"\u001b[39;49m\u001b[38;5;124;43m'\u001b[39;49m\u001b[38;5;124;43mr\u001b[39;49m\u001b[38;5;124;43m'\u001b[39;49m\u001b[43m)\u001b[49m\n\u001b[0;32m      4\u001b[0m f\u001b[38;5;241m.\u001b[39mread()\n\u001b[0;32m      6\u001b[0m \u001b[38;5;28mprint\u001b[39m(\u001b[38;5;124m\"\u001b[39m\u001b[38;5;124mhello everyone, i am Tushar Singh\u001b[39m\u001b[38;5;124m\"\u001b[39m)\n",
      "\u001b[1;31mFileNotFoundError\u001b[0m: [Errno 2] No such file or directory: 'demo.txtr'"
     ]
    }
   ],
   "source": [
    "# if exception is not handled\n",
    "\n",
    "f = open(\"demo.txt\"'r')\n",
    "f.read()\n",
    "\n",
    "print(\"hello everyone, i am Tushar Singh\")"
   ]
  },
  {
   "cell_type": "markdown",
   "id": "c10b3345",
   "metadata": {},
   "source": [
    "hence as we can see that the print statement is correct in all manner , still it is not exectued due to an exception above it"
   ]
  },
  {
   "cell_type": "code",
   "execution_count": null,
   "id": "072c3730",
   "metadata": {},
   "outputs": [],
   "source": []
  },
  {
   "cell_type": "markdown",
   "id": "450555ae",
   "metadata": {},
   "source": [
    "which python statements are used to handle the exception?explain?"
   ]
  },
  {
   "cell_type": "markdown",
   "id": "3c115cd0",
   "metadata": {},
   "source": [
    "The try-except blocks are used to handle the exception in python. their are two more blocks : else and finally which were also used in exception handling"
   ]
  },
  {
   "cell_type": "code",
   "execution_count": 10,
   "id": "bd1d9aa8",
   "metadata": {},
   "outputs": [
    {
     "name": "stdout",
     "output_type": "stream",
     "text": [
      "enter the number5\n",
      "division by zero\n",
      "always exectued\n"
     ]
    }
   ],
   "source": [
    "try:     #this block will include the code which may throw an error\n",
    "    num = int(input(\"enter the number\"))\n",
    "    a = num/0\n",
    "    \n",
    "except ZeroDivisionError as e:    #this block is used to detemine which type of eroor is in the code\n",
    "    print(e)\n",
    "    \n",
    "else:         #this block will only exectued if the try block doesnot thro an error\n",
    "    print(\"successful exceution\")\n",
    "\n",
    "finally:\n",
    "    print(\"always exectued\")"
   ]
  },
  {
   "cell_type": "code",
   "execution_count": null,
   "id": "ab39d131",
   "metadata": {},
   "outputs": [],
   "source": []
  },
  {
   "cell_type": "markdown",
   "id": "03573731",
   "metadata": {},
   "source": [
    "Explain the try-else , finally , raise block"
   ]
  },
  {
   "cell_type": "code",
   "execution_count": 12,
   "id": "268e1772",
   "metadata": {},
   "outputs": [
    {
     "name": "stdout",
     "output_type": "stream",
     "text": [
      " this will be executed once if try will execute without error\n"
     ]
    }
   ],
   "source": [
    "# try-else block\n",
    "\n",
    "try :\n",
    "    f= open(\"test.txt\" , 'w')\n",
    "    f.write(\" write into my file \" )\n",
    "except Exception  as e : \n",
    "    print(\"this is my except block \" , e)\n",
    "else : \n",
    "    f.close()\n",
    "    print(\" this will be executed once if try will execute without error\" )"
   ]
  },
  {
   "cell_type": "code",
   "execution_count": 13,
   "id": "8064f70a",
   "metadata": {},
   "outputs": [
    {
     "name": "stdout",
     "output_type": "stream",
     "text": [
      "finally will execute itself in any situation\n"
     ]
    },
    {
     "ename": "FileNotFoundError",
     "evalue": "[Errno 2] No such file or directory: 'test3.txt'",
     "output_type": "error",
     "traceback": [
      "\u001b[1;31m---------------------------------------------------------------------------\u001b[0m",
      "\u001b[1;31mFileNotFoundError\u001b[0m                         Traceback (most recent call last)",
      "Input \u001b[1;32mIn [13]\u001b[0m, in \u001b[0;36m<cell line: 3>\u001b[1;34m()\u001b[0m\n\u001b[0;32m      1\u001b[0m \u001b[38;5;66;03m# finally\u001b[39;00m\n\u001b[0;32m      3\u001b[0m \u001b[38;5;28;01mtry\u001b[39;00m :\n\u001b[1;32m----> 4\u001b[0m     f \u001b[38;5;241m=\u001b[39m \u001b[38;5;28;43mopen\u001b[39;49m\u001b[43m(\u001b[49m\u001b[38;5;124;43m\"\u001b[39;49m\u001b[38;5;124;43mtest3.txt\u001b[39;49m\u001b[38;5;124;43m\"\u001b[39;49m\u001b[43m \u001b[49m\u001b[43m,\u001b[49m\u001b[43m \u001b[49m\u001b[38;5;124;43m'\u001b[39;49m\u001b[38;5;124;43mr\u001b[39;49m\u001b[38;5;124;43m'\u001b[39;49m\u001b[43m)\u001b[49m\n\u001b[0;32m      5\u001b[0m     f\u001b[38;5;241m.\u001b[39mwrite(\u001b[38;5;124m\"\u001b[39m\u001b[38;5;124mwrite something\u001b[39m\u001b[38;5;124m\"\u001b[39m )\n\u001b[0;32m      6\u001b[0m \u001b[38;5;28;01mfinally\u001b[39;00m : \n",
      "\u001b[1;31mFileNotFoundError\u001b[0m: [Errno 2] No such file or directory: 'test3.txt'"
     ]
    }
   ],
   "source": [
    "# finally\n",
    "\n",
    "try :\n",
    "    f = open(\"test3.txt\" , 'r')\n",
    "    f.write(\"write something\" )\n",
    "finally : \n",
    "    print(\"finally will execute itself in any situation\")   #exectued in any case"
   ]
  },
  {
   "cell_type": "code",
   "execution_count": 22,
   "id": "a5c93465",
   "metadata": {},
   "outputs": [],
   "source": [
    "# raise keyword is used to raise or call for the exception if any in the code\n",
    "\n",
    "class validateage(Exception):   #inheritance of super class of all the exception\n",
    "    \n",
    "    def __init__(self , msg) : \n",
    "        self.msg = msg"
   ]
  },
  {
   "cell_type": "code",
   "execution_count": 23,
   "id": "a5d344f8",
   "metadata": {},
   "outputs": [],
   "source": [
    "def check_age(age) : \n",
    "    if age < 0 :\n",
    "        raise validateage(\"entered age is negative \" )    # raising the exception \n",
    "    elif age > 120 : \n",
    "        raise validateage(\"enterd age is very very high \" )\n",
    "    else :\n",
    "        print(\"age is valid\" )"
   ]
  },
  {
   "cell_type": "code",
   "execution_count": 24,
   "id": "1518abc5",
   "metadata": {},
   "outputs": [
    {
     "name": "stdout",
     "output_type": "stream",
     "text": [
      "enter your age: 96\n",
      "age is valid\n"
     ]
    }
   ],
   "source": [
    "try :\n",
    "    age = int(input(\"enter your age: \" ))\n",
    "    check_age(age)\n",
    "except validateage as e :\n",
    "    print(e)"
   ]
  },
  {
   "cell_type": "code",
   "execution_count": null,
   "id": "8fb13f1e",
   "metadata": {},
   "outputs": [],
   "source": []
  },
  {
   "cell_type": "markdown",
   "id": "a7c66cdc",
   "metadata": {},
   "source": [
    "what are custom exception in python and why do we need them?"
   ]
  },
  {
   "cell_type": "markdown",
   "id": "a16c491f",
   "metadata": {},
   "source": [
    "Their could be a unlisted exception or if we want to check the exception in our defined function then we need the custom exception handling which will help us to resolve the error.\n",
    "The above example could be the best example of custom exception."
   ]
  },
  {
   "cell_type": "code",
   "execution_count": 29,
   "id": "a8ed2e9b",
   "metadata": {},
   "outputs": [],
   "source": [
    "# custom exception\n",
    "\n",
    "class valid_num(Exception):\n",
    "    \n",
    "    def __init__(self,msg):\n",
    "        self.msg = msg"
   ]
  },
  {
   "cell_type": "code",
   "execution_count": 30,
   "id": "9ce2c41d",
   "metadata": {},
   "outputs": [],
   "source": [
    "def check_num(num):\n",
    "    if num<0:\n",
    "        raise valid_num(\"The entered number is negative\")\n",
    "    elif num>10:\n",
    "        raise valid_num(\"The entered number is greater than 10\")\n",
    "    else:\n",
    "        print(\"valid number\")"
   ]
  },
  {
   "cell_type": "code",
   "execution_count": 32,
   "id": "3712fcd1",
   "metadata": {},
   "outputs": [
    {
     "name": "stdout",
     "output_type": "stream",
     "text": [
      "enter the number between 1 to 10: -9\n",
      "The entered number is negative\n"
     ]
    }
   ],
   "source": [
    "try:\n",
    "    num = int(input(\"enter the number between 1 to 10: \"))\n",
    "    check_num(num)\n",
    "except valid_num as e:\n",
    "    print(e)"
   ]
  },
  {
   "cell_type": "code",
   "execution_count": null,
   "id": "094bc244",
   "metadata": {},
   "outputs": [],
   "source": []
  },
  {
   "cell_type": "markdown",
   "id": "0fe55d9d",
   "metadata": {},
   "source": [
    "create a custom exception class and use this class to handle the exception"
   ]
  },
  {
   "cell_type": "code",
   "execution_count": 43,
   "id": "abb2bab2",
   "metadata": {},
   "outputs": [],
   "source": [
    "# custom exception class\n",
    "\n",
    "class eligible(Exception):\n",
    "    \n",
    "    def __init__(self,msg):\n",
    "        self.msg = msg"
   ]
  },
  {
   "cell_type": "code",
   "execution_count": 44,
   "id": "0d02aad9",
   "metadata": {},
   "outputs": [],
   "source": [
    "def vote(age):       #method to raise the exception at specific conditions\n",
    "    if age<0 or age>=110:\n",
    "        raise eligible(\"Invalid age, please enter valid age !\")\n",
    "    elif age>=0 and age<=17:\n",
    "        raise eligible(\"You cann't vote now, come when you are 18 or above\")\n",
    "    else:\n",
    "        print(\"you can vote\")"
   ]
  },
  {
   "cell_type": "code",
   "execution_count": 46,
   "id": "e2dc7ce5",
   "metadata": {},
   "outputs": [
    {
     "name": "stdout",
     "output_type": "stream",
     "text": [
      "entered your age for voting: 25\n",
      "you can vote\n",
      "your vote is counted !\n",
      "Thanks for comming\n"
     ]
    }
   ],
   "source": [
    "#exception handling using try catch block\n",
    "try:\n",
    "    age = int(input(\"entered your age for voting: \"))\n",
    "    vote(age)\n",
    "except eligible as e:\n",
    "    print(e)\n",
    "else:\n",
    "    print(\"your vote is counted !\")\n",
    "finally:\n",
    "    print(\"Thanks for comming\")"
   ]
  },
  {
   "cell_type": "code",
   "execution_count": null,
   "id": "b0356908",
   "metadata": {},
   "outputs": [],
   "source": []
  }
 ],
 "metadata": {
  "kernelspec": {
   "display_name": "Python 3 (ipykernel)",
   "language": "python",
   "name": "python3"
  },
  "language_info": {
   "codemirror_mode": {
    "name": "ipython",
    "version": 3
   },
   "file_extension": ".py",
   "mimetype": "text/x-python",
   "name": "python",
   "nbconvert_exporter": "python",
   "pygments_lexer": "ipython3",
   "version": "3.9.12"
  }
 },
 "nbformat": 4,
 "nbformat_minor": 5
}
